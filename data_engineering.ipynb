{
 "cells": [
  {
   "cell_type": "code",
   "execution_count": 1,
   "metadata": {},
   "outputs": [
    {
     "name": "stderr",
     "output_type": "stream",
     "text": [
      "Could Not Find C:\\Users\\Reena\\Desktop\\RUDataScience\\homework\\SurfsupHomework11\\final\\submitted\\hawaii.sqlite\n",
      "Could Not Find C:\\Users\\Reena\\Desktop\\RUDataScience\\homework\\SurfsupHomework11\\final\\submitted\\hawaii_measurements_clean.csv\n",
      "Could Not Find C:\\Users\\Reena\\Desktop\\RUDataScience\\homework\\SurfsupHomework11\\final\\submitted\\hawaii_stations_clean.csv\n"
     ]
    }
   ],
   "source": [
    "#Clean up existing files and database if code is being executed multiple times\n",
    "!del hawaii.sqlite \n",
    "!del hawaii_measurements_clean.csv \n",
    "!del hawaii_stations_clean.csv"
   ]
  },
  {
   "cell_type": "code",
   "execution_count": 2,
   "metadata": {
    "collapsed": true
   },
   "outputs": [],
   "source": [
    "# add dependencies\n",
    "import pandas as pd\n",
    "import os\n",
    "import numpy as np\n",
    "import csv"
   ]
  },
  {
   "cell_type": "code",
   "execution_count": 3,
   "metadata": {
    "collapsed": true
   },
   "outputs": [],
   "source": [
    "# import station files\n",
    "station_file = \"hawaii_stations.csv\"\n",
    "station_df = pd.read_csv(station_file)\n",
    "#station_df.count()"
   ]
  },
  {
   "cell_type": "code",
   "execution_count": 4,
   "metadata": {
    "collapsed": true
   },
   "outputs": [],
   "source": [
    "station_df = station_df.dropna(axis = 0, how='any')\n",
    "#station_df.count()"
   ]
  },
  {
   "cell_type": "code",
   "execution_count": 5,
   "metadata": {
    "collapsed": true
   },
   "outputs": [],
   "source": [
    "station_df.to_csv(\"hawaii_stations_clean.csv\", index=False, header=True)"
   ]
  },
  {
   "cell_type": "code",
   "execution_count": 6,
   "metadata": {},
   "outputs": [
    {
     "data": {
      "text/plain": [
       "station    19550\n",
       "date       19550\n",
       "prcp       18103\n",
       "tobs       19550\n",
       "dtype: int64"
      ]
     },
     "execution_count": 6,
     "metadata": {},
     "output_type": "execute_result"
    }
   ],
   "source": [
    "# import measurement files\n",
    "measurement_file = \"hawaii_measurements.csv\"\n",
    "measurement_df = pd.read_csv(measurement_file)\n",
    "measurement_df.count()"
   ]
  },
  {
   "cell_type": "code",
   "execution_count": 7,
   "metadata": {},
   "outputs": [
    {
     "data": {
      "text/plain": [
       "station    18103\n",
       "date       18103\n",
       "prcp       18103\n",
       "tobs       18103\n",
       "dtype: int64"
      ]
     },
     "execution_count": 7,
     "metadata": {},
     "output_type": "execute_result"
    }
   ],
   "source": [
    "measurement_df = measurement_df.dropna(axis = 0, how='any')\n",
    "measurement_df.count()"
   ]
  },
  {
   "cell_type": "code",
   "execution_count": 8,
   "metadata": {
    "collapsed": true
   },
   "outputs": [],
   "source": [
    "measurement_df.to_csv(\"hawaii_measurements_clean.csv\", index=False, header=True)"
   ]
  },
  {
   "cell_type": "code",
   "execution_count": null,
   "metadata": {
    "collapsed": true
   },
   "outputs": [],
   "source": []
  },
  {
   "cell_type": "code",
   "execution_count": null,
   "metadata": {
    "collapsed": true
   },
   "outputs": [],
   "source": []
  }
 ],
 "metadata": {
  "kernelspec": {
   "display_name": "Python 3",
   "language": "python",
   "name": "python3"
  },
  "language_info": {
   "codemirror_mode": {
    "name": "ipython",
    "version": 3
   },
   "file_extension": ".py",
   "mimetype": "text/x-python",
   "name": "python",
   "nbconvert_exporter": "python",
   "pygments_lexer": "ipython3",
   "version": "3.6.3"
  }
 },
 "nbformat": 4,
 "nbformat_minor": 2
}
